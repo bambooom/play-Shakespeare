{
 "cells": [
  {
   "cell_type": "code",
   "execution_count": 38,
   "metadata": {
    "collapsed": false
   },
   "outputs": [],
   "source": [
    "from lxml import objectify\n",
    "#from bs4 import BeautifulSoup\n",
    "#import requests\n",
    "import xml.etree.ElementTree as etree\n",
    "import lxml.etree\n",
    "\n",
    "#path = \"text_data_xml/alls_well_that_ends_well.xml\"\n",
    "#xml = objectify.parse(open(path))\n",
    "#root = xml.getroot()\n",
    "\n",
    "#print root.tag"
   ]
  },
  {
   "cell_type": "code",
   "execution_count": 12,
   "metadata": {
    "collapsed": false
   },
   "outputs": [
    {
     "data": {
      "text/plain": [
       "<Element 'play' at 0x105c6fb90>"
      ]
     },
     "execution_count": 12,
     "metadata": {},
     "output_type": "execute_result"
    }
   ],
   "source": [
    "tree = etree.parse('text_data_xml/alls_well_that_ends_well.xml')\n",
    "root = tree.getroot()\n",
    "root"
   ]
  },
  {
   "cell_type": "code",
   "execution_count": 13,
   "metadata": {
    "collapsed": false,
    "scrolled": true
   },
   "outputs": [
    {
     "data": {
      "text/plain": [
       "{'genre': 'comedy',\n",
       " 'numberOfCharacters': '24',\n",
       " 'numberOfLines': '2168',\n",
       " 'numberOfScenes': '25'}"
      ]
     },
     "execution_count": 13,
     "metadata": {},
     "output_type": "execute_result"
    }
   ],
   "source": [
    "root.attrib"
   ]
  },
  {
   "cell_type": "code",
   "execution_count": 16,
   "metadata": {
    "collapsed": false
   },
   "outputs": [
    {
     "data": {
      "text/plain": [
       "'act'"
      ]
     },
     "execution_count": 16,
     "metadata": {},
     "output_type": "execute_result"
    }
   ],
   "source": [
    "root[4].tag"
   ]
  },
  {
   "cell_type": "code",
   "execution_count": 20,
   "metadata": {
    "collapsed": false
   },
   "outputs": [
    {
     "data": {
      "text/plain": [
       "[u'All\\u2019s Well That Ends Well',\n",
       " 'William Shakespeare and Thomas Middleton',\n",
       " '1602-1603',\n",
       " <Element personae at 0x10611d518>,\n",
       " <Element act at 0x10611d638>,\n",
       " <Element act at 0x10611d680>,\n",
       " <Element act at 0x10611d6c8>,\n",
       " <Element act at 0x10611d710>,\n",
       " <Element act at 0x10611d758>,\n",
       " <Element epilogue at 0x10611d7a0>,\n",
       " <Element sources at 0x10611d7e8>,\n",
       " <Element sourcedetails at 0x10611d830>]"
      ]
     },
     "execution_count": 20,
     "metadata": {},
     "output_type": "execute_result"
    }
   ],
   "source": [
    "path = \"text_data_xml/alls_well_that_ends_well.xml\"\n",
    "xml = objectify.parse(open(path))\n",
    "root_xml = xml.getroot()\n",
    "\n",
    "root_xml.getchildren()"
   ]
  },
  {
   "cell_type": "code",
   "execution_count": 21,
   "metadata": {
    "collapsed": false
   },
   "outputs": [
    {
     "data": {
      "text/plain": [
       "[<Element persona at 0x10611d3b0>,\n",
       " <Element persona at 0x10611d950>,\n",
       " <Element persona at 0x10611d908>,\n",
       " <Element persona at 0x10611d8c0>,\n",
       " <Element persona at 0x10611da28>,\n",
       " <Element persona at 0x10611da70>,\n",
       " <Element persona at 0x10611dab8>,\n",
       " <Element persona at 0x10611db00>,\n",
       " <Element persona at 0x10611db48>,\n",
       " <Element persona at 0x10611db90>,\n",
       " <Element persona at 0x10611dbd8>,\n",
       " <Element persona at 0x10611dc20>,\n",
       " <Element persona at 0x10611dc68>,\n",
       " <Element persona at 0x10611dcb0>,\n",
       " <Element persona at 0x10611dcf8>,\n",
       " <Element persona at 0x10611dd40>,\n",
       " <Element persona at 0x10611dd88>,\n",
       " <Element persona at 0x10611ddd0>,\n",
       " <Element persona at 0x10611de18>,\n",
       " <Element persona at 0x10611de60>,\n",
       " <Element persona at 0x10611dea8>,\n",
       " <Element persona at 0x10611def0>,\n",
       " <Element persona at 0x10611df38>,\n",
       " <Element persona at 0x10611df80>]"
      ]
     },
     "execution_count": 21,
     "metadata": {},
     "output_type": "execute_result"
    }
   ],
   "source": [
    "root_xml.getchildren()[3].getchildren() # 介绍人物的数据"
   ]
  },
  {
   "cell_type": "code",
   "execution_count": 22,
   "metadata": {
    "collapsed": false
   },
   "outputs": [
    {
     "data": {
      "text/plain": [
       "24"
      ]
     },
     "execution_count": 22,
     "metadata": {},
     "output_type": "execute_result"
    }
   ],
   "source": [
    "persona = root_xml.getchildren()[3].getchildren()\n",
    "len(persona) # 一共24个人物"
   ]
  },
  {
   "cell_type": "code",
   "execution_count": 25,
   "metadata": {
    "collapsed": false
   },
   "outputs": [
    {
     "data": {
      "text/plain": [
       "['Act 1',\n",
       " <Element scene at 0x1061212d8>,\n",
       " <Element scene at 0x106121368>,\n",
       " <Element scene at 0x1061213b0>]"
      ]
     },
     "execution_count": 25,
     "metadata": {},
     "output_type": "execute_result"
    }
   ],
   "source": [
    "root_xml.getchildren()[4].getchildren()"
   ]
  },
  {
   "cell_type": "code",
   "execution_count": 27,
   "metadata": {
    "collapsed": false
   },
   "outputs": [
    {
     "data": {
      "text/plain": [
       "5"
      ]
     },
     "execution_count": 27,
     "metadata": {},
     "output_type": "execute_result"
    }
   ],
   "source": [
    "acts = []\n",
    "for i in xrange(5):\n",
    "    acts.append(root_xml.getchildren()[i+4].getchildren())\n",
    "    \n",
    "len(acts)"
   ]
  },
  {
   "cell_type": "code",
   "execution_count": 28,
   "metadata": {
    "collapsed": false
   },
   "outputs": [
    {
     "data": {
      "text/plain": [
       "[['Act 1',\n",
       "  <Element scene at 0x1061212d8>,\n",
       "  <Element scene at 0x106121368>,\n",
       "  <Element scene at 0x1061213b0>],\n",
       " ['Act 2',\n",
       "  <Element scene at 0x1061217e8>,\n",
       "  <Element scene at 0x1061218c0>,\n",
       "  <Element scene at 0x106121908>,\n",
       "  <Element scene at 0x106121950>,\n",
       "  <Element scene at 0x106121998>],\n",
       " ['Act 3',\n",
       "  <Element scene at 0x1061219e0>,\n",
       "  <Element scene at 0x106121a70>,\n",
       "  <Element scene at 0x106121ab8>,\n",
       "  <Element scene at 0x106121b00>,\n",
       "  <Element scene at 0x106121b48>,\n",
       "  <Element scene at 0x106121b90>,\n",
       "  <Element scene at 0x106121bd8>],\n",
       " ['Act 4',\n",
       "  <Element scene at 0x106121c20>,\n",
       "  <Element scene at 0x106121cb0>,\n",
       "  <Element scene at 0x106121cf8>,\n",
       "  <Element scene at 0x106121d40>,\n",
       "  <Element scene at 0x106121d88>],\n",
       " ['Act 5',\n",
       "  <Element scene at 0x106121dd0>,\n",
       "  <Element scene at 0x106121e60>,\n",
       "  <Element scene at 0x106121ea8>]]"
      ]
     },
     "execution_count": 28,
     "metadata": {},
     "output_type": "execute_result"
    }
   ],
   "source": [
    "acts"
   ]
  },
  {
   "cell_type": "code",
   "execution_count": 30,
   "metadata": {
    "collapsed": false
   },
   "outputs": [
    {
     "data": {
      "text/plain": [
       "['Scene 1',\n",
       " u'Rossillion. A room in the Count\\u2019s palace.',\n",
       " <Element scenepersonae at 0x1061260e0>,\n",
       " <Element stagedir at 0x1061262d8>,\n",
       " <Element speech at 0x106126320>,\n",
       " <Element speech at 0x106126368>,\n",
       " <Element speech at 0x1061263b0>,\n",
       " <Element speech at 0x1061263f8>,\n",
       " <Element speech at 0x106126440>,\n",
       " <Element speech at 0x106126488>,\n",
       " <Element speech at 0x1061264d0>,\n",
       " <Element speech at 0x106126518>,\n",
       " <Element speech at 0x106126560>,\n",
       " <Element speech at 0x1061265a8>,\n",
       " <Element speech at 0x1061265f0>,\n",
       " <Element speech at 0x106126638>,\n",
       " <Element speech at 0x106126680>,\n",
       " <Element speech at 0x1061266c8>,\n",
       " <Element speech at 0x106126710>,\n",
       " <Element speech at 0x106126758>,\n",
       " <Element speech at 0x1061267a0>,\n",
       " <Element speech at 0x1061267e8>,\n",
       " <Element speech at 0x106126830>,\n",
       " <Element speech at 0x106126878>,\n",
       " <Element speech at 0x1061268c0>,\n",
       " <Element speech at 0x106126908>,\n",
       " <Element speech at 0x106126950>,\n",
       " <Element speech at 0x106126998>,\n",
       " <Element speech at 0x1061269e0>,\n",
       " <Element speech at 0x106126a28>,\n",
       " <Element stagedir at 0x106126a70>,\n",
       " <Element speech at 0x106126ab8>,\n",
       " <Element speech at 0x106126b00>,\n",
       " <Element speech at 0x106126b48>,\n",
       " <Element speech at 0x106126b90>,\n",
       " <Element speech at 0x106126bd8>,\n",
       " <Element speech at 0x106126c20>,\n",
       " <Element speech at 0x106126c68>,\n",
       " <Element speech at 0x106126cb0>,\n",
       " <Element speech at 0x106126cf8>,\n",
       " <Element speech at 0x106126d40>,\n",
       " <Element speech at 0x106126d88>,\n",
       " <Element speech at 0x106126dd0>,\n",
       " <Element speech at 0x106126e18>,\n",
       " <Element speech at 0x106126e60>,\n",
       " <Element speech at 0x106126ea8>,\n",
       " <Element speech at 0x106126ef0>,\n",
       " <Element speech at 0x106126f38>,\n",
       " <Element speech at 0x106126f80>,\n",
       " <Element speech at 0x106126fc8>,\n",
       " <Element speech at 0x106127050>,\n",
       " <Element speech at 0x106127098>,\n",
       " <Element stagedir at 0x1061270e0>,\n",
       " <Element speech at 0x106127128>,\n",
       " <Element stagedir at 0x106127170>,\n",
       " <Element speech at 0x1061271b8>,\n",
       " <Element speech at 0x106127200>,\n",
       " <Element speech at 0x106127248>,\n",
       " <Element speech at 0x106127290>,\n",
       " <Element speech at 0x1061272d8>,\n",
       " <Element speech at 0x106127320>,\n",
       " <Element speech at 0x106127368>,\n",
       " <Element speech at 0x1061273b0>,\n",
       " <Element speech at 0x1061273f8>,\n",
       " <Element speech at 0x106127440>,\n",
       " <Element speech at 0x106127488>,\n",
       " <Element speech at 0x1061274d0>,\n",
       " <Element speech at 0x106127518>,\n",
       " <Element stagedir at 0x106127560>,\n",
       " <Element speech at 0x1061275a8>,\n",
       " <Element stagedir at 0x1061275f0>]"
      ]
     },
     "execution_count": 30,
     "metadata": {},
     "output_type": "execute_result"
    }
   ],
   "source": [
    "root_xml.getchildren()[4].getchildren()[1].getchildren()"
   ]
  },
  {
   "cell_type": "code",
   "execution_count": 50,
   "metadata": {
    "collapsed": false
   },
   "outputs": [
    {
     "data": {
      "text/plain": [
       "[<Element 'speech' at 0x105ca2290>,\n",
       " <Element 'speech' at 0x105ca2390>,\n",
       " <Element 'speech' at 0x105ca2450>,\n",
       " <Element 'speech' at 0x105ca2510>,\n",
       " <Element 'speech' at 0x105ca2610>,\n",
       " <Element 'speech' at 0x105ca26d0>,\n",
       " <Element 'speech' at 0x105ca27d0>,\n",
       " <Element 'speech' at 0x105ca2890>,\n",
       " <Element 'speech' at 0x105ca2990>,\n",
       " <Element 'speech' at 0x105ca2a50>,\n",
       " <Element 'speech' at 0x105ca2b10>,\n",
       " <Element 'speech' at 0x105ca2bd0>,\n",
       " <Element 'speech' at 0x105ca2cd0>,\n",
       " <Element 'speech' at 0x105ca2d90>,\n",
       " <Element 'speech' at 0x105ca2e90>,\n",
       " <Element 'speech' at 0x105ca2f50>,\n",
       " <Element 'speech' at 0x105cad090>,\n",
       " <Element 'speech' at 0x105cad150>,\n",
       " <Element 'speech' at 0x105cad210>,\n",
       " <Element 'speech' at 0x105cad310>,\n",
       " <Element 'speech' at 0x105cad3d0>,\n",
       " <Element 'speech' at 0x105cad4d0>,\n",
       " <Element 'speech' at 0x105cad890>,\n",
       " <Element 'speech' at 0x105cada10>,\n",
       " <Element 'speech' at 0x105cadb50>,\n",
       " <Element 'speech' at 0x105cadf10>,\n",
       " <Element 'speech' at 0x105cb71d0>,\n",
       " <Element 'speech' at 0x105cb7a90>,\n",
       " <Element 'speech' at 0x105cb7b90>,\n",
       " <Element 'speech' at 0x105cb7c10>,\n",
       " <Element 'speech' at 0x105cb7cd0>,\n",
       " <Element 'speech' at 0x105cb7d90>,\n",
       " <Element 'speech' at 0x105cb7e50>,\n",
       " <Element 'speech' at 0x105cb7f10>,\n",
       " <Element 'speech' at 0x105cb7fd0>,\n",
       " <Element 'speech' at 0x105ccc0d0>,\n",
       " <Element 'speech' at 0x105ccc190>,\n",
       " <Element 'speech' at 0x105ccc250>,\n",
       " <Element 'speech' at 0x105ccc310>,\n",
       " <Element 'speech' at 0x105ccc3d0>,\n",
       " <Element 'speech' at 0x105ccc490>,\n",
       " <Element 'speech' at 0x105ccc550>,\n",
       " <Element 'speech' at 0x105ccc610>,\n",
       " <Element 'speech' at 0x105ccca10>,\n",
       " <Element 'speech' at 0x105cccad0>,\n",
       " <Element 'speech' at 0x105cccb90>,\n",
       " <Element 'speech' at 0x105cccc50>,\n",
       " <Element 'speech' at 0x105cccf10>,\n",
       " <Element 'speech' at 0x105cdf110>,\n",
       " <Element 'speech' at 0x105cdf1d0>,\n",
       " <Element 'speech' at 0x105cdf2d0>,\n",
       " <Element 'speech' at 0x105cdf390>,\n",
       " <Element 'speech' at 0x105cdf450>,\n",
       " <Element 'speech' at 0x105cdf510>,\n",
       " <Element 'speech' at 0x105cdf5d0>,\n",
       " <Element 'speech' at 0x105cdf6d0>,\n",
       " <Element 'speech' at 0x105cdf790>,\n",
       " <Element 'speech' at 0x105cdf850>,\n",
       " <Element 'speech' at 0x105cdf910>,\n",
       " <Element 'speech' at 0x105cdfa10>,\n",
       " <Element 'speech' at 0x105cdfa90>,\n",
       " <Element 'speech' at 0x105cdfc10>,\n",
       " <Element 'speech' at 0x105cee510>,\n",
       " <Element 'speech' at 0x105cee650>,\n",
       " <Element 'speech' at 0x105cee790>,\n",
       " <Element 'speech' at 0x105cee990>,\n",
       " <Element 'speech' at 0x105ceeb90>,\n",
       " <Element 'speech' at 0x105ceed90>,\n",
       " <Element 'speech' at 0x105ceef50>,\n",
       " <Element 'speech' at 0x105cfa190>,\n",
       " <Element 'speech' at 0x105cfa2d0>,\n",
       " <Element 'speech' at 0x105cfa450>,\n",
       " <Element 'speech' at 0x105cfa510>,\n",
       " <Element 'speech' at 0x105cfabd0>,\n",
       " <Element 'speech' at 0x105cfadd0>,\n",
       " <Element 'speech' at 0x105d062d0>,\n",
       " <Element 'speech' at 0x105d06410>,\n",
       " <Element 'speech' at 0x105d06550>,\n",
       " <Element 'speech' at 0x105d06610>,\n",
       " <Element 'speech' at 0x105d067d0>,\n",
       " <Element 'speech' at 0x105d06e10>,\n",
       " <Element 'speech' at 0x105d06f10>,\n",
       " <Element 'speech' at 0x105d06fd0>,\n",
       " <Element 'speech' at 0x105c6fad0>,\n",
       " <Element 'speech' at 0x105d12150>,\n",
       " <Element 'speech' at 0x105d12250>,\n",
       " <Element 'speech' at 0x105d12310>,\n",
       " <Element 'speech' at 0x105d12410>,\n",
       " <Element 'speech' at 0x105d124d0>,\n",
       " <Element 'speech' at 0x105d125d0>,\n",
       " <Element 'speech' at 0x105d12690>,\n",
       " <Element 'speech' at 0x105d12790>,\n",
       " <Element 'speech' at 0x105d12850>,\n",
       " <Element 'speech' at 0x105d12950>,\n",
       " <Element 'speech' at 0x105d12a10>,\n",
       " <Element 'speech' at 0x105d12b50>,\n",
       " <Element 'speech' at 0x105d12c10>,\n",
       " <Element 'speech' at 0x105d12d10>,\n",
       " <Element 'speech' at 0x105d12dd0>,\n",
       " <Element 'speech' at 0x105d12ed0>,\n",
       " <Element 'speech' at 0x105d12f90>,\n",
       " <Element 'speech' at 0x105d1e0d0>,\n",
       " <Element 'speech' at 0x105d1e2d0>,\n",
       " <Element 'speech' at 0x105d1e3d0>,\n",
       " <Element 'speech' at 0x105d1e490>,\n",
       " <Element 'speech' at 0x105d1e590>,\n",
       " <Element 'speech' at 0x105d1e9d0>,\n",
       " <Element 'speech' at 0x105d1ead0>,\n",
       " <Element 'speech' at 0x105d1eb90>,\n",
       " <Element 'speech' at 0x105d1ec90>,\n",
       " <Element 'speech' at 0x105d1ee10>,\n",
       " <Element 'speech' at 0x105d1ef10>,\n",
       " <Element 'speech' at 0x105d1efd0>,\n",
       " <Element 'speech' at 0x105d2a110>,\n",
       " <Element 'speech' at 0x105d2a1d0>,\n",
       " <Element 'speech' at 0x105d2a690>,\n",
       " <Element 'speech' at 0x105d2a750>,\n",
       " <Element 'speech' at 0x105d2a8d0>,\n",
       " <Element 'speech' at 0x105d2a9d0>,\n",
       " <Element 'speech' at 0x105d2ae50>,\n",
       " <Element 'speech' at 0x105d2af10>,\n",
       " <Element 'speech' at 0x105d37090>,\n",
       " <Element 'speech' at 0x105d37310>,\n",
       " <Element 'speech' at 0x105d37410>,\n",
       " <Element 'speech' at 0x105d37610>,\n",
       " <Element 'speech' at 0x105d37b90>,\n",
       " <Element 'speech' at 0x105d37c90>,\n",
       " <Element 'speech' at 0x105d37d90>,\n",
       " <Element 'speech' at 0x105d37e50>,\n",
       " <Element 'speech' at 0x105d37f50>,\n",
       " <Element 'speech' at 0x105d45090>,\n",
       " <Element 'speech' at 0x105d452d0>,\n",
       " <Element 'speech' at 0x105d459d0>,\n",
       " <Element 'speech' at 0x105d45b10>,\n",
       " <Element 'speech' at 0x105d45bd0>,\n",
       " <Element 'speech' at 0x105d45d10>,\n",
       " <Element 'speech' at 0x105d72110>,\n",
       " <Element 'speech' at 0x105d72290>,\n",
       " <Element 'speech' at 0x105d72450>,\n",
       " <Element 'speech' at 0x105d72790>,\n",
       " <Element 'speech' at 0x105d72a50>,\n",
       " <Element 'speech' at 0x105d72b90>,\n",
       " <Element 'speech' at 0x105d72c50>,\n",
       " <Element 'speech' at 0x105d7c4d0>,\n",
       " <Element 'speech' at 0x105d7c6d0>,\n",
       " <Element 'speech' at 0x105d7c850>,\n",
       " <Element 'speech' at 0x105d7cb50>,\n",
       " <Element 'speech' at 0x105d7cc50>,\n",
       " <Element 'speech' at 0x105d7cdd0>,\n",
       " <Element 'speech' at 0x105d7ce90>,\n",
       " <Element 'speech' at 0x105d88090>,\n",
       " <Element 'speech' at 0x105d88190>,\n",
       " <Element 'speech' at 0x105d88250>,\n",
       " <Element 'speech' at 0x105d88350>,\n",
       " <Element 'speech' at 0x105d88410>,\n",
       " <Element 'speech' at 0x105d88510>,\n",
       " <Element 'speech' at 0x105d885d0>,\n",
       " <Element 'speech' at 0x105d88750>,\n",
       " <Element 'speech' at 0x105d888d0>,\n",
       " <Element 'speech' at 0x105d88950>,\n",
       " <Element 'speech' at 0x105d88a50>,\n",
       " <Element 'speech' at 0x105d88b10>,\n",
       " <Element 'speech' at 0x105d88c10>,\n",
       " <Element 'speech' at 0x105d88d50>,\n",
       " <Element 'speech' at 0x105d88e10>,\n",
       " <Element 'speech' at 0x105d88f50>,\n",
       " <Element 'speech' at 0x105d94190>,\n",
       " <Element 'speech' at 0x105d94250>,\n",
       " <Element 'speech' at 0x105d94350>,\n",
       " <Element 'speech' at 0x105d94410>,\n",
       " <Element 'speech' at 0x105d94790>,\n",
       " <Element 'speech' at 0x105d94910>,\n",
       " <Element 'speech' at 0x105d94a50>,\n",
       " <Element 'speech' at 0x105d94b50>,\n",
       " <Element 'speech' at 0x105d94cd0>,\n",
       " <Element 'speech' at 0x105d94dd0>,\n",
       " <Element 'speech' at 0x105d94e90>,\n",
       " <Element 'speech' at 0x105da41d0>,\n",
       " <Element 'speech' at 0x105da4290>,\n",
       " <Element 'speech' at 0x105da4550>,\n",
       " <Element 'speech' at 0x105da46d0>,\n",
       " <Element 'speech' at 0x105da48d0>,\n",
       " <Element 'speech' at 0x105da4990>,\n",
       " <Element 'speech' at 0x105da4b50>,\n",
       " <Element 'speech' at 0x105da4c10>,\n",
       " <Element 'speech' at 0x105da4ed0>,\n",
       " <Element 'speech' at 0x105da4f90>,\n",
       " <Element 'speech' at 0x105db0110>,\n",
       " <Element 'speech' at 0x105db01d0>,\n",
       " <Element 'speech' at 0x105db0590>,\n",
       " <Element 'speech' at 0x105db0910>,\n",
       " <Element 'speech' at 0x105db0a90>,\n",
       " <Element 'speech' at 0x105db0c50>,\n",
       " <Element 'speech' at 0x105db0f90>,\n",
       " <Element 'speech' at 0x105dbf110>,\n",
       " <Element 'speech' at 0x105dbf450>,\n",
       " <Element 'speech' at 0x105dbf590>,\n",
       " <Element 'speech' at 0x105dbf810>,\n",
       " <Element 'speech' at 0x105dbf950>,\n",
       " <Element 'speech' at 0x105dbfad0>,\n",
       " <Element 'speech' at 0x105dbfe50>,\n",
       " <Element 'speech' at 0x105dbffd0>,\n",
       " <Element 'speech' at 0x105dcd0d0>,\n",
       " <Element 'speech' at 0x105dcd1d0>,\n",
       " <Element 'speech' at 0x105dcd290>,\n",
       " <Element 'speech' at 0x105dcd510>,\n",
       " <Element 'speech' at 0x105dcdbd0>,\n",
       " <Element 'speech' at 0x105dcdcd0>,\n",
       " <Element 'speech' at 0x105dcdd90>,\n",
       " <Element 'speech' at 0x105dcde90>,\n",
       " <Element 'speech' at 0x105dcdf50>,\n",
       " <Element 'speech' at 0x105dda090>,\n",
       " <Element 'speech' at 0x105dda150>,\n",
       " <Element 'speech' at 0x105dda250>,\n",
       " <Element 'speech' at 0x105dda310>,\n",
       " <Element 'speech' at 0x105dda410>,\n",
       " <Element 'speech' at 0x105dda4d0>,\n",
       " <Element 'speech' at 0x105dda5d0>,\n",
       " <Element 'speech' at 0x105dda690>,\n",
       " <Element 'speech' at 0x105dda790>,\n",
       " <Element 'speech' at 0x105dda850>,\n",
       " <Element 'speech' at 0x105dda950>,\n",
       " <Element 'speech' at 0x105ddaa10>,\n",
       " <Element 'speech' at 0x105ddab10>,\n",
       " <Element 'speech' at 0x105ddabd0>,\n",
       " <Element 'speech' at 0x105ddacd0>,\n",
       " <Element 'speech' at 0x105ddae10>,\n",
       " <Element 'speech' at 0x105ddaed0>,\n",
       " <Element 'speech' at 0x105ddaf90>,\n",
       " <Element 'speech' at 0x105de5110>,\n",
       " <Element 'speech' at 0x105de51d0>,\n",
       " <Element 'speech' at 0x105de5390>,\n",
       " <Element 'speech' at 0x105de5450>,\n",
       " <Element 'speech' at 0x105de5550>,\n",
       " <Element 'speech' at 0x105de5610>,\n",
       " <Element 'speech' at 0x105de5c10>,\n",
       " <Element 'speech' at 0x105de5cd0>,\n",
       " <Element 'speech' at 0x105de5d90>,\n",
       " <Element 'speech' at 0x105de5e50>,\n",
       " <Element 'speech' at 0x105de5f10>,\n",
       " <Element 'speech' at 0x105de5fd0>,\n",
       " <Element 'speech' at 0x105df10d0>,\n",
       " <Element 'speech' at 0x105df1190>,\n",
       " <Element 'speech' at 0x105df1290>,\n",
       " <Element 'speech' at 0x105df1350>,\n",
       " <Element 'speech' at 0x105df1410>,\n",
       " <Element 'speech' at 0x105df14d0>,\n",
       " <Element 'speech' at 0x105df1590>,\n",
       " <Element 'speech' at 0x105df1650>,\n",
       " <Element 'speech' at 0x105df1710>,\n",
       " <Element 'speech' at 0x105df18d0>,\n",
       " <Element 'speech' at 0x105df1a90>,\n",
       " <Element 'speech' at 0x105df1b50>,\n",
       " <Element 'speech' at 0x105df1c10>,\n",
       " <Element 'speech' at 0x105df1cd0>,\n",
       " <Element 'speech' at 0x105df1dd0>,\n",
       " <Element 'speech' at 0x105df1e90>,\n",
       " <Element 'speech' at 0x105df1f50>,\n",
       " <Element 'speech' at 0x105e00050>,\n",
       " <Element 'speech' at 0x105e00250>,\n",
       " <Element 'speech' at 0x105e00310>,\n",
       " <Element 'speech' at 0x105e00410>,\n",
       " <Element 'speech' at 0x105e00510>,\n",
       " <Element 'speech' at 0x105e00610>,\n",
       " <Element 'speech' at 0x105e00ad0>,\n",
       " <Element 'speech' at 0x105e00bd0>,\n",
       " <Element 'speech' at 0x105e00d50>,\n",
       " <Element 'speech' at 0x105e00e50>,\n",
       " <Element 'speech' at 0x105e00f50>,\n",
       " <Element 'speech' at 0x105e0d050>,\n",
       " <Element 'speech' at 0x105e0d290>,\n",
       " <Element 'speech' at 0x105e0d3d0>,\n",
       " <Element 'speech' at 0x105e0d690>,\n",
       " <Element 'speech' at 0x105e0d750>,\n",
       " <Element 'speech' at 0x105e0d810>,\n",
       " <Element 'speech' at 0x105e0d8d0>,\n",
       " <Element 'speech' at 0x105e0db50>,\n",
       " <Element 'speech' at 0x105e0dc50>,\n",
       " <Element 'speech' at 0x105e0dd50>,\n",
       " <Element 'speech' at 0x105e0de10>,\n",
       " <Element 'speech' at 0x105e180d0>,\n",
       " <Element 'speech' at 0x105e18190>,\n",
       " <Element 'speech' at 0x105e18390>,\n",
       " <Element 'speech' at 0x105e18490>,\n",
       " <Element 'speech' at 0x105e18550>,\n",
       " <Element 'speech' at 0x105e18790>,\n",
       " <Element 'speech' at 0x105e18850>,\n",
       " <Element 'speech' at 0x105e189d0>,\n",
       " <Element 'speech' at 0x105e18b50>,\n",
       " <Element 'speech' at 0x105e18c50>,\n",
       " <Element 'speech' at 0x105e18d10>,\n",
       " <Element 'speech' at 0x105e18f10>,\n",
       " <Element 'speech' at 0x105e256d0>,\n",
       " <Element 'speech' at 0x105e25790>,\n",
       " <Element 'speech' at 0x105e25850>,\n",
       " <Element 'speech' at 0x105e25950>,\n",
       " <Element 'speech' at 0x105e25e50>,\n",
       " <Element 'speech' at 0x105e35110>,\n",
       " <Element 'speech' at 0x105e352d0>,\n",
       " <Element 'speech' at 0x105e35390>,\n",
       " <Element 'speech' at 0x105e35950>,\n",
       " <Element 'speech' at 0x105e35a50>,\n",
       " <Element 'speech' at 0x105e35b10>,\n",
       " <Element 'speech' at 0x105e35bd0>,\n",
       " <Element 'speech' at 0x105e35c90>,\n",
       " <Element 'speech' at 0x105e35d50>,\n",
       " <Element 'speech' at 0x105e35e10>,\n",
       " <Element 'speech' at 0x105e35ed0>,\n",
       " <Element 'speech' at 0x105e35f90>,\n",
       " <Element 'speech' at 0x105e43090>,\n",
       " <Element 'speech' at 0x105e43150>,\n",
       " <Element 'speech' at 0x105e43210>,\n",
       " <Element 'speech' at 0x105e432d0>,\n",
       " <Element 'speech' at 0x105e43390>,\n",
       " <Element 'speech' at 0x105e43450>,\n",
       " <Element 'speech' at 0x105e43510>,\n",
       " <Element 'speech' at 0x105e435d0>,\n",
       " <Element 'speech' at 0x105e43690>,\n",
       " <Element 'speech' at 0x105e43750>,\n",
       " <Element 'speech' at 0x105e43810>,\n",
       " <Element 'speech' at 0x105e43910>,\n",
       " <Element 'speech' at 0x105e439d0>,\n",
       " <Element 'speech' at 0x105e43a90>,\n",
       " <Element 'speech' at 0x105e43c10>,\n",
       " <Element 'speech' at 0x105e43d90>,\n",
       " <Element 'speech' at 0x105e43e50>,\n",
       " <Element 'speech' at 0x105e43f10>,\n",
       " <Element 'speech' at 0x105e43fd0>,\n",
       " <Element 'speech' at 0x105e510d0>,\n",
       " <Element 'speech' at 0x105e51190>,\n",
       " <Element 'speech' at 0x105e51250>,\n",
       " <Element 'speech' at 0x105e51490>,\n",
       " <Element 'speech' at 0x105e51550>,\n",
       " <Element 'speech' at 0x105e51610>,\n",
       " <Element 'speech' at 0x105e516d0>,\n",
       " <Element 'speech' at 0x105e517d0>,\n",
       " <Element 'speech' at 0x105e518d0>,\n",
       " <Element 'speech' at 0x105e519d0>,\n",
       " <Element 'speech' at 0x105e51ad0>,\n",
       " <Element 'speech' at 0x105e51bd0>,\n",
       " <Element 'speech' at 0x105e51e90>,\n",
       " <Element 'speech' at 0x105e5e0d0>,\n",
       " <Element 'speech' at 0x105e5e190>,\n",
       " <Element 'speech' at 0x105e5e2d0>,\n",
       " <Element 'speech' at 0x105e5e850>,\n",
       " <Element 'speech' at 0x105e5e910>,\n",
       " <Element 'speech' at 0x105e5e9d0>,\n",
       " <Element 'speech' at 0x105e5ea90>,\n",
       " <Element 'speech' at 0x105e5eb50>,\n",
       " <Element 'speech' at 0x105e5ec10>,\n",
       " <Element 'speech' at 0x105e5ed90>,\n",
       " <Element 'speech' at 0x105e5ee50>,\n",
       " <Element 'speech' at 0x105e5ef10>,\n",
       " <Element 'speech' at 0x105e5efd0>,\n",
       " <Element 'speech' at 0x105e6c0d0>,\n",
       " <Element 'speech' at 0x105e6c190>,\n",
       " <Element 'speech' at 0x105e6c250>,\n",
       " <Element 'speech' at 0x105e6c350>,\n",
       " <Element 'speech' at 0x105e6c3d0>,\n",
       " <Element 'speech' at 0x105e6c490>,\n",
       " <Element 'speech' at 0x105e6c790>,\n",
       " <Element 'speech' at 0x105e6ca90>,\n",
       " <Element 'speech' at 0x105e6cb90>,\n",
       " <Element 'speech' at 0x105e6cd10>,\n",
       " <Element 'speech' at 0x105e6ce10>,\n",
       " <Element 'speech' at 0x105e6cf10>,\n",
       " <Element 'speech' at 0x105e6cfd0>,\n",
       " <Element 'speech' at 0x105e791d0>,\n",
       " <Element 'speech' at 0x105e79710>,\n",
       " <Element 'speech' at 0x105e797d0>,\n",
       " <Element 'speech' at 0x105e79890>,\n",
       " <Element 'speech' at 0x105e79950>,\n",
       " <Element 'speech' at 0x105e79a10>,\n",
       " <Element 'speech' at 0x105e79ad0>,\n",
       " <Element 'speech' at 0x105e79b90>,\n",
       " <Element 'speech' at 0x105e79d10>,\n",
       " <Element 'speech' at 0x105e79ed0>,\n",
       " <Element 'speech' at 0x105e79f90>,\n",
       " <Element 'speech' at 0x105e88090>,\n",
       " <Element 'speech' at 0x105e88150>,\n",
       " <Element 'speech' at 0x105e88350>,\n",
       " <Element 'speech' at 0x105e88410>,\n",
       " <Element 'speech' at 0x105e88510>,\n",
       " <Element 'speech' at 0x105e885d0>,\n",
       " <Element 'speech' at 0x105e88750>,\n",
       " <Element 'speech' at 0x105e88810>,\n",
       " <Element 'speech' at 0x105e88910>,\n",
       " <Element 'speech' at 0x105e889d0>,\n",
       " <Element 'speech' at 0x105e88a90>,\n",
       " <Element 'speech' at 0x105e88b50>,\n",
       " <Element 'speech' at 0x105e88d10>,\n",
       " <Element 'speech' at 0x105e88e10>,\n",
       " <Element 'speech' at 0x105e88ed0>,\n",
       " <Element 'speech' at 0x105e88fd0>,\n",
       " <Element 'speech' at 0x105e961d0>,\n",
       " <Element 'speech' at 0x105e96350>,\n",
       " <Element 'speech' at 0x105e96910>,\n",
       " <Element 'speech' at 0x105e96a50>,\n",
       " <Element 'speech' at 0x105e96b10>,\n",
       " <Element 'speech' at 0x105e96cd0>,\n",
       " <Element 'speech' at 0x105e96dd0>,\n",
       " <Element 'speech' at 0x105e96ed0>,\n",
       " <Element 'speech' at 0x105e96fd0>,\n",
       " <Element 'speech' at 0x105ea2190>,\n",
       " <Element 'speech' at 0x105ea2290>,\n",
       " <Element 'speech' at 0x105ea2410>,\n",
       " <Element 'speech' at 0x105ea24d0>,\n",
       " <Element 'speech' at 0x105ea2590>,\n",
       " <Element 'speech' at 0x105ea2890>,\n",
       " <Element 'speech' at 0x105ea2e90>,\n",
       " <Element 'speech' at 0x105eaf090>,\n",
       " <Element 'speech' at 0x105eaf250>,\n",
       " <Element 'speech' at 0x105eaf390>,\n",
       " <Element 'speech' at 0x105eaf690>,\n",
       " <Element 'speech' at 0x105eaf710>,\n",
       " <Element 'speech' at 0x105eaf8d0>,\n",
       " <Element 'speech' at 0x105eaff50>,\n",
       " <Element 'speech' at 0x105ebb090>,\n",
       " <Element 'speech' at 0x105ebb150>,\n",
       " <Element 'speech' at 0x105ebb250>,\n",
       " <Element 'speech' at 0x105ebb310>,\n",
       " <Element 'speech' at 0x105ebb4d0>,\n",
       " <Element 'speech' at 0x105ebb590>,\n",
       " <Element 'speech' at 0x105ebb690>,\n",
       " <Element 'speech' at 0x105ebb810>,\n",
       " <Element 'speech' at 0x105ebbd10>,\n",
       " <Element 'speech' at 0x105ebbdd0>,\n",
       " <Element 'speech' at 0x105ebbed0>,\n",
       " <Element 'speech' at 0x105ebbf90>,\n",
       " <Element 'speech' at 0x105ec7110>,\n",
       " <Element 'speech' at 0x105ec7390>,\n",
       " <Element 'speech' at 0x105ec74d0>,\n",
       " <Element 'speech' at 0x105ec7550>,\n",
       " <Element 'speech' at 0x105ec7650>,\n",
       " <Element 'speech' at 0x105ec7810>,\n",
       " <Element 'speech' at 0x105ec7a10>,\n",
       " <Element 'speech' at 0x105ec7c10>,\n",
       " <Element 'speech' at 0x105ec7d10>,\n",
       " <Element 'speech' at 0x105ec7e50>,\n",
       " <Element 'speech' at 0x105ed3090>,\n",
       " <Element 'speech' at 0x105ed3190>,\n",
       " <Element 'speech' at 0x105ed32d0>,\n",
       " <Element 'speech' at 0x105ed3450>,\n",
       " <Element 'speech' at 0x105ed3550>,\n",
       " <Element 'speech' at 0x105ed3650>,\n",
       " <Element 'speech' at 0x105ed3890>,\n",
       " <Element 'speech' at 0x105ed39d0>,\n",
       " <Element 'speech' at 0x105ed3a90>,\n",
       " <Element 'speech' at 0x105ed3bd0>,\n",
       " <Element 'speech' at 0x105ed3dd0>,\n",
       " <Element 'speech' at 0x105ed3f10>,\n",
       " <Element 'speech' at 0x105edf090>,\n",
       " <Element 'speech' at 0x105edf1d0>,\n",
       " <Element 'speech' at 0x105edf390>,\n",
       " <Element 'speech' at 0x105edf510>,\n",
       " <Element 'speech' at 0x105edf790>,\n",
       " <Element 'speech' at 0x105edf910>,\n",
       " <Element 'speech' at 0x105edfb90>,\n",
       " <Element 'speech' at 0x105eea950>,\n",
       " <Element 'speech' at 0x105eeaad0>,\n",
       " <Element 'speech' at 0x105eeac50>,\n",
       " <Element 'speech' at 0x105eeadd0>,\n",
       " <Element 'speech' at 0x105ef6410>,\n",
       " <Element 'speech' at 0x105ef6590>,\n",
       " <Element 'speech' at 0x105ef6d50>,\n",
       " <Element 'speech' at 0x105ef6f50>,\n",
       " <Element 'speech' at 0x105f04150>,\n",
       " <Element 'speech' at 0x105f04cd0>,\n",
       " <Element 'speech' at 0x105f04dd0>,\n",
       " <Element 'speech' at 0x105f04e90>,\n",
       " <Element 'speech' at 0x105f04f90>,\n",
       " <Element 'speech' at 0x105f11090>,\n",
       " <Element 'speech' at 0x105f11190>,\n",
       " <Element 'speech' at 0x105f11250>,\n",
       " <Element 'speech' at 0x105f113d0>,\n",
       " <Element 'speech' at 0x105f114d0>,\n",
       " <Element 'speech' at 0x105f11610>,\n",
       " <Element 'speech' at 0x105f11710>,\n",
       " <Element 'speech' at 0x105f11850>,\n",
       " <Element 'speech' at 0x105f11a90>,\n",
       " <Element 'speech' at 0x105f11b50>,\n",
       " <Element 'speech' at 0x105f11c50>,\n",
       " <Element 'speech' at 0x105f11d10>,\n",
       " <Element 'speech' at 0x105f11e10>,\n",
       " <Element 'speech' at 0x105f11ed0>,\n",
       " <Element 'speech' at 0x105f1d050>,\n",
       " <Element 'speech' at 0x105f1d150>,\n",
       " <Element 'speech' at 0x105f1d210>,\n",
       " <Element 'speech' at 0x105f1d350>,\n",
       " <Element 'speech' at 0x105f1d4d0>,\n",
       " <Element 'speech' at 0x105f1d590>,\n",
       " <Element 'speech' at 0x105f1d690>,\n",
       " <Element 'speech' at 0x105f1d750>,\n",
       " <Element 'speech' at 0x105f1d850>,\n",
       " <Element 'speech' at 0x105f1db10>,\n",
       " <Element 'speech' at 0x105f1dc50>,\n",
       " <Element 'speech' at 0x105f1ddd0>,\n",
       " <Element 'speech' at 0x105f1df50>,\n",
       " <Element 'speech' at 0x105f292d0>,\n",
       " <Element 'speech' at 0x105f293d0>,\n",
       " <Element 'speech' at 0x105f29550>,\n",
       " <Element 'speech' at 0x105f29650>,\n",
       " <Element 'speech' at 0x105f297d0>,\n",
       " <Element 'speech' at 0x105f29890>,\n",
       " <Element 'speech' at 0x105f299d0>,\n",
       " <Element 'speech' at 0x105f29a90>,\n",
       " <Element 'speech' at 0x105f29b50>,\n",
       " <Element 'speech' at 0x105f29c10>,\n",
       " <Element 'speech' at 0x105f29d10>,\n",
       " <Element 'speech' at 0x105f29dd0>,\n",
       " <Element 'speech' at 0x105f29ed0>,\n",
       " <Element 'speech' at 0x105f350d0>,\n",
       " <Element 'speech' at 0x105f352d0>,\n",
       " <Element 'speech' at 0x105f354d0>,\n",
       " <Element 'speech' at 0x105f35b90>,\n",
       " <Element 'speech' at 0x105f35c90>,\n",
       " <Element 'speech' at 0x105f35d90>,\n",
       " <Element 'speech' at 0x105f35e90>,\n",
       " <Element 'speech' at 0x105f35f50>,\n",
       " <Element 'speech' at 0x105f42090>,\n",
       " <Element 'speech' at 0x105f42190>,\n",
       " <Element 'speech' at 0x105f42250>,\n",
       " <Element 'speech' at 0x105f42350>,\n",
       " <Element 'speech' at 0x105f42450>,\n",
       " <Element 'speech' at 0x105f42610>,\n",
       " <Element 'speech' at 0x105f42710>,\n",
       " <Element 'speech' at 0x105f42810>,\n",
       " <Element 'speech' at 0x105f42910>,\n",
       " <Element 'speech' at 0x105f429d0>,\n",
       " <Element 'speech' at 0x105f42ad0>,\n",
       " <Element 'speech' at 0x105f42b90>,\n",
       " <Element 'speech' at 0x105f42c90>,\n",
       " <Element 'speech' at 0x105f42d50>,\n",
       " <Element 'speech' at 0x105f42e10>,\n",
       " <Element 'speech' at 0x105f42f10>,\n",
       " <Element 'speech' at 0x105f42fd0>,\n",
       " <Element 'speech' at 0x105f4e0d0>,\n",
       " <Element 'speech' at 0x105f4e190>,\n",
       " <Element 'speech' at 0x105f4e250>,\n",
       " <Element 'speech' at 0x105f4e310>,\n",
       " <Element 'speech' at 0x105f4e3d0>,\n",
       " <Element 'speech' at 0x105f4e590>,\n",
       " <Element 'speech' at 0x105f4e690>,\n",
       " <Element 'speech' at 0x105f4e790>,\n",
       " <Element 'speech' at 0x105f4e850>,\n",
       " <Element 'speech' at 0x105f4e950>,\n",
       " <Element 'speech' at 0x105f4ea50>,\n",
       " <Element 'speech' at 0x105f4eb50>,\n",
       " <Element 'speech' at 0x105f4ec10>,\n",
       " <Element 'speech' at 0x105f4edd0>,\n",
       " <Element 'speech' at 0x105f4ef10>,\n",
       " <Element 'speech' at 0x105f59090>,\n",
       " <Element 'speech' at 0x105f59290>,\n",
       " <Element 'speech' at 0x105f59810>,\n",
       " <Element 'speech' at 0x105f59950>,\n",
       " <Element 'speech' at 0x105f59b50>,\n",
       " <Element 'speech' at 0x105f59dd0>,\n",
       " <Element 'speech' at 0x105f59fd0>,\n",
       " <Element 'speech' at 0x105f64490>,\n",
       " <Element 'speech' at 0x105f645d0>,\n",
       " <Element 'speech' at 0x105f64890>,\n",
       " <Element 'speech' at 0x105f64b50>,\n",
       " <Element 'speech' at 0x105f72290>,\n",
       " <Element 'speech' at 0x105f72390>,\n",
       " <Element 'speech' at 0x105f72490>,\n",
       " <Element 'speech' at 0x105f72590>,\n",
       " <Element 'speech' at 0x105f726d0>,\n",
       " <Element 'speech' at 0x105f727d0>,\n",
       " <Element 'speech' at 0x105f72910>,\n",
       " <Element 'speech' at 0x105f72c50>,\n",
       " <Element 'speech' at 0x105f72d10>,\n",
       " <Element 'speech' at 0x105f72ed0>,\n",
       " <Element 'speech' at 0x105f72f90>,\n",
       " <Element 'speech' at 0x105f7b190>,\n",
       " <Element 'speech' at 0x105f7b250>,\n",
       " <Element 'speech' at 0x105f7b450>,\n",
       " <Element 'speech' at 0x105f7b510>,\n",
       " <Element 'speech' at 0x105f7b6d0>,\n",
       " <Element 'speech' at 0x105f7b790>,\n",
       " <Element 'speech' at 0x105f7b950>,\n",
       " <Element 'speech' at 0x105f7ba10>,\n",
       " <Element 'speech' at 0x105f7bbd0>,\n",
       " <Element 'speech' at 0x105f7bc90>,\n",
       " <Element 'speech' at 0x105f7be50>,\n",
       " <Element 'speech' at 0x105f7bf10>,\n",
       " <Element 'speech' at 0x105f88150>,\n",
       " <Element 'speech' at 0x105f882d0>,\n",
       " <Element 'speech' at 0x105f883d0>,\n",
       " <Element 'speech' at 0x105f88890>,\n",
       " <Element 'speech' at 0x105f889d0>,\n",
       " <Element 'speech' at 0x105f88b90>,\n",
       " <Element 'speech' at 0x105f88c90>,\n",
       " <Element 'speech' at 0x105f88d50>,\n",
       " <Element 'speech' at 0x105f88e50>,\n",
       " <Element 'speech' at 0x105f88f90>,\n",
       " <Element 'speech' at 0x105f931d0>,\n",
       " <Element 'speech' at 0x105f93390>,\n",
       " <Element 'speech' at 0x105f934d0>,\n",
       " <Element 'speech' at 0x105f935d0>,\n",
       " <Element 'speech' at 0x105f93950>,\n",
       " <Element 'speech' at 0x105f93b10>,\n",
       " <Element 'speech' at 0x105f93bd0>,\n",
       " <Element 'speech' at 0x105f93d10>,\n",
       " <Element 'speech' at 0x105f93dd0>,\n",
       " <Element 'speech' at 0x105f9d2d0>,\n",
       " <Element 'speech' at 0x105f9d390>,\n",
       " <Element 'speech' at 0x105f9d490>,\n",
       " <Element 'speech' at 0x105f9d750>,\n",
       " <Element 'speech' at 0x105f9d850>,\n",
       " <Element 'speech' at 0x105f9d910>,\n",
       " <Element 'speech' at 0x105f9da90>,\n",
       " <Element 'speech' at 0x105f9dc50>,\n",
       " <Element 'speech' at 0x105f9ddd0>,\n",
       " <Element 'speech' at 0x105f9de90>,\n",
       " <Element 'speech' at 0x105faa250>,\n",
       " <Element 'speech' at 0x105faa4d0>,\n",
       " <Element 'speech' at 0x105faa5d0>,\n",
       " <Element 'speech' at 0x105faa6d0>,\n",
       " <Element 'speech' at 0x105faa7d0>,\n",
       " <Element 'speech' at 0x105faa950>,\n",
       " <Element 'speech' at 0x105faabd0>,\n",
       " <Element 'speech' at 0x105faad50>,\n",
       " <Element 'speech' at 0x105fb9110>,\n",
       " <Element 'speech' at 0x105fb9290>,\n",
       " <Element 'speech' at 0x105fb9a90>,\n",
       " <Element 'speech' at 0x105fb9b90>,\n",
       " <Element 'speech' at 0x105fb9c90>,\n",
       " <Element 'speech' at 0x105fb9d90>,\n",
       " <Element 'speech' at 0x105fb9e90>,\n",
       " <Element 'speech' at 0x105fb9f90>,\n",
       " <Element 'speech' at 0x105fc40d0>,\n",
       " <Element 'speech' at 0x105fc41d0>,\n",
       " <Element 'speech' at 0x105fc42d0>,\n",
       " <Element 'speech' at 0x105fc43d0>,\n",
       " <Element 'speech' at 0x105fc44d0>,\n",
       " <Element 'speech' at 0x105fc45d0>,\n",
       " <Element 'speech' at 0x105fc46d0>,\n",
       " <Element 'speech' at 0x105fc47d0>,\n",
       " <Element 'speech' at 0x105fc48d0>,\n",
       " <Element 'speech' at 0x105fc49d0>,\n",
       " <Element 'speech' at 0x105fc4ad0>,\n",
       " <Element 'speech' at 0x105fc4bd0>,\n",
       " <Element 'speech' at 0x105fc4cd0>,\n",
       " <Element 'speech' at 0x105fc4dd0>,\n",
       " <Element 'speech' at 0x105fc4f10>,\n",
       " <Element 'speech' at 0x105fcf050>,\n",
       " <Element 'speech' at 0x105fcf150>,\n",
       " <Element 'speech' at 0x105fcf250>,\n",
       " <Element 'speech' at 0x105fcf350>,\n",
       " <Element 'speech' at 0x105fcf450>,\n",
       " <Element 'speech' at 0x105fcf550>,\n",
       " <Element 'speech' at 0x105fcf790>,\n",
       " <Element 'speech' at 0x105fcf850>,\n",
       " <Element 'speech' at 0x105fcfa10>,\n",
       " <Element 'speech' at 0x105fcfb10>,\n",
       " <Element 'speech' at 0x105fcfc10>,\n",
       " <Element 'speech' at 0x105fcfd10>,\n",
       " <Element 'speech' at 0x105fcfdd0>,\n",
       " <Element 'speech' at 0x105fcff50>,\n",
       " <Element 'speech' at 0x105fda050>,\n",
       " <Element 'speech' at 0x105fda150>,\n",
       " <Element 'speech' at 0x105fda250>,\n",
       " <Element 'speech' at 0x105fda450>,\n",
       " <Element 'speech' at 0x105fda510>,\n",
       " <Element 'speech' at 0x105fda610>,\n",
       " <Element 'speech' at 0x105fda710>,\n",
       " <Element 'speech' at 0x105fda7d0>,\n",
       " <Element 'speech' at 0x105fda8d0>,\n",
       " <Element 'speech' at 0x105fdaa10>,\n",
       " <Element 'speech' at 0x105fdab10>,\n",
       " <Element 'speech' at 0x105fdabd0>,\n",
       " <Element 'speech' at 0x105fdae90>,\n",
       " <Element 'speech' at 0x105fdaf50>,\n",
       " <Element 'speech' at 0x105fe6090>,\n",
       " <Element 'speech' at 0x105fe6150>,\n",
       " <Element 'speech' at 0x105fe6210>,\n",
       " <Element 'speech' at 0x105fe6350>,\n",
       " <Element 'speech' at 0x105fe6450>,\n",
       " <Element 'speech' at 0x105fe6590>,\n",
       " <Element 'speech' at 0x105fe6610>,\n",
       " <Element 'speech' at 0x105fe6710>,\n",
       " <Element 'speech' at 0x105fe67d0>,\n",
       " <Element 'speech' at 0x105fe6890>,\n",
       " <Element 'speech' at 0x105fe69d0>,\n",
       " <Element 'speech' at 0x105fe6a50>,\n",
       " <Element 'speech' at 0x105fe6d10>,\n",
       " <Element 'speech' at 0x105fe6dd0>,\n",
       " <Element 'speech' at 0x105fe6ed0>,\n",
       " <Element 'speech' at 0x105fe6fd0>,\n",
       " <Element 'speech' at 0x105ff02d0>,\n",
       " <Element 'speech' at 0x105ff0390>,\n",
       " <Element 'speech' at 0x105ff0490>,\n",
       " <Element 'speech' at 0x105ff0550>,\n",
       " <Element 'speech' at 0x105ff0610>,\n",
       " <Element 'speech' at 0x105ff0710>,\n",
       " <Element 'speech' at 0x105ff07d0>,\n",
       " <Element 'speech' at 0x105ff08d0>,\n",
       " <Element 'speech' at 0x105ff09d0>,\n",
       " <Element 'speech' at 0x105ff0a90>,\n",
       " <Element 'speech' at 0x105ff0bd0>,\n",
       " <Element 'speech' at 0x105ff0c50>,\n",
       " <Element 'speech' at 0x105ff0d50>,\n",
       " <Element 'speech' at 0x105ff0e10>,\n",
       " <Element 'speech' at 0x105ff0ed0>,\n",
       " <Element 'speech' at 0x105ff0fd0>,\n",
       " <Element 'speech' at 0x105ffc250>,\n",
       " <Element 'speech' at 0x105ffc310>,\n",
       " <Element 'speech' at 0x105ffc410>,\n",
       " <Element 'speech' at 0x105ffc4d0>,\n",
       " <Element 'speech' at 0x105ffc5d0>,\n",
       " <Element 'speech' at 0x105ffcc90>,\n",
       " <Element 'speech' at 0x105ffcd50>,\n",
       " <Element 'speech' at 0x105ffce50>,\n",
       " <Element 'speech' at 0x105ffcf10>,\n",
       " <Element 'speech' at 0x10600a050>,\n",
       " <Element 'speech' at 0x10600a110>,\n",
       " <Element 'speech' at 0x10600a210>,\n",
       " <Element 'speech' at 0x10600a2d0>,\n",
       " <Element 'speech' at 0x10600a3d0>,\n",
       " <Element 'speech' at 0x10600a490>,\n",
       " <Element 'speech' at 0x10600a590>,\n",
       " <Element 'speech' at 0x10600a650>,\n",
       " <Element 'speech' at 0x10600a750>,\n",
       " <Element 'speech' at 0x10600a810>,\n",
       " <Element 'speech' at 0x10600a910>,\n",
       " <Element 'speech' at 0x10600a9d0>,\n",
       " <Element 'speech' at 0x10600aad0>,\n",
       " <Element 'speech' at 0x10600ac10>,\n",
       " <Element 'speech' at 0x10600ad10>,\n",
       " <Element 'speech' at 0x10600add0>,\n",
       " <Element 'speech' at 0x10600aed0>,\n",
       " <Element 'speech' at 0x10600af90>,\n",
       " <Element 'speech' at 0x1060140d0>,\n",
       " <Element 'speech' at 0x106014250>,\n",
       " <Element 'speech' at 0x106014350>,\n",
       " <Element 'speech' at 0x106014410>,\n",
       " <Element 'speech' at 0x106014690>,\n",
       " <Element 'speech' at 0x106014790>,\n",
       " <Element 'speech' at 0x106014890>,\n",
       " <Element 'speech' at 0x106014990>,\n",
       " <Element 'speech' at 0x106014a90>,\n",
       " <Element 'speech' at 0x106014d10>,\n",
       " <Element 'speech' at 0x106014e10>,\n",
       " <Element 'speech' at 0x106014ed0>,\n",
       " <Element 'speech' at 0x106020110>,\n",
       " <Element 'speech' at 0x106020890>,\n",
       " <Element 'speech' at 0x106020cd0>,\n",
       " <Element 'speech' at 0x106020e50>,\n",
       " <Element 'speech' at 0x10602d290>,\n",
       " <Element 'speech' at 0x10602d450>,\n",
       " <Element 'speech' at 0x10602db10>,\n",
       " <Element 'speech' at 0x10602dbd0>,\n",
       " <Element 'speech' at 0x10602dcd0>,\n",
       " <Element 'speech' at 0x10602dd90>,\n",
       " <Element 'speech' at 0x10602de50>,\n",
       " <Element 'speech' at 0x10602df10>,\n",
       " <Element 'speech' at 0x10602dfd0>,\n",
       " <Element 'speech' at 0x10603a0d0>,\n",
       " <Element 'speech' at 0x10603a190>,\n",
       " <Element 'speech' at 0x10603a250>,\n",
       " <Element 'speech' at 0x10603a310>,\n",
       " <Element 'speech' at 0x10603a3d0>,\n",
       " <Element 'speech' at 0x10603a490>,\n",
       " <Element 'speech' at 0x10603a550>,\n",
       " <Element 'speech' at 0x10603a610>,\n",
       " <Element 'speech' at 0x10603a6d0>,\n",
       " <Element 'speech' at 0x10603a790>,\n",
       " <Element 'speech' at 0x10603a890>,\n",
       " <Element 'speech' at 0x10603a910>,\n",
       " <Element 'speech' at 0x10603aa10>,\n",
       " <Element 'speech' at 0x10603aad0>,\n",
       " <Element 'speech' at 0x10603ab90>,\n",
       " <Element 'speech' at 0x10603ac50>,\n",
       " <Element 'speech' at 0x10603ad10>,\n",
       " <Element 'speech' at 0x10603ae90>,\n",
       " <Element 'speech' at 0x10603af50>,\n",
       " <Element 'speech' at 0x106049090>,\n",
       " <Element 'speech' at 0x106049150>,\n",
       " <Element 'speech' at 0x106049250>,\n",
       " <Element 'speech' at 0x106049310>,\n",
       " <Element 'speech' at 0x106049410>,\n",
       " <Element 'speech' at 0x1060494d0>,\n",
       " <Element 'speech' at 0x1060495d0>,\n",
       " <Element 'speech' at 0x106049750>,\n",
       " <Element 'speech' at 0x106049810>,\n",
       " <Element 'speech' at 0x1060498d0>,\n",
       " <Element 'speech' at 0x106049990>,\n",
       " <Element 'speech' at 0x106049a50>,\n",
       " <Element 'speech' at 0x106055150>,\n",
       " <Element 'speech' at 0x106055510>,\n",
       " <Element 'speech' at 0x1060555d0>,\n",
       " <Element 'speech' at 0x106055690>,\n",
       " <Element 'speech' at 0x106055750>,\n",
       " <Element 'speech' at 0x106055990>,\n",
       " <Element 'speech' at 0x106055a50>,\n",
       " <Element 'speech' at 0x106055c50>,\n",
       " <Element 'speech' at 0x106055d50>,\n",
       " <Element 'speech' at 0x106055dd0>,\n",
       " <Element 'speech' at 0x106055f10>,\n",
       " <Element 'speech' at 0x106062050>,\n",
       " <Element 'speech' at 0x106062190>,\n",
       " <Element 'speech' at 0x106062290>,\n",
       " <Element 'speech' at 0x106062510>,\n",
       " <Element 'speech' at 0x106062610>,\n",
       " <Element 'speech' at 0x106062b90>,\n",
       " <Element 'speech' at 0x106062c50>,\n",
       " <Element 'speech' at 0x106062d10>,\n",
       " <Element 'speech' at 0x106062dd0>,\n",
       " <Element 'speech' at 0x106062e90>,\n",
       " <Element 'speech' at 0x106062f50>,\n",
       " <Element 'speech' at 0x10606f210>,\n",
       " <Element 'speech' at 0x10606f2d0>,\n",
       " <Element 'speech' at 0x10606f390>,\n",
       " <Element 'speech' at 0x10606f450>,\n",
       " <Element 'speech' at 0x10606f510>,\n",
       " <Element 'speech' at 0x10606f5d0>,\n",
       " <Element 'speech' at 0x10606f690>,\n",
       " <Element 'speech' at 0x10606f750>,\n",
       " <Element 'speech' at 0x10606f810>,\n",
       " <Element 'speech' at 0x10606f8d0>,\n",
       " <Element 'speech' at 0x10606fa50>,\n",
       " <Element 'speech' at 0x10607b310>,\n",
       " <Element 'speech' at 0x10607b4d0>,\n",
       " <Element 'speech' at 0x10607b750>,\n",
       " <Element 'speech' at 0x10607b890>,\n",
       " <Element 'speech' at 0x10607bb90>,\n",
       " <Element 'speech' at 0x10607bed0>,\n",
       " <Element 'speech' at 0x106087050>,\n",
       " <Element 'speech' at 0x106087110>,\n",
       " <Element 'speech' at 0x1060871d0>,\n",
       " <Element 'speech' at 0x106087410>,\n",
       " <Element 'speech' at 0x1060874d0>,\n",
       " <Element 'speech' at 0x106087710>,\n",
       " <Element 'speech' at 0x106087850>,\n",
       " <Element 'speech' at 0x106087ad0>,\n",
       " <Element 'speech' at 0x106087e50>,\n",
       " <Element 'speech' at 0x106094310>,\n",
       " <Element 'speech' at 0x106094450>,\n",
       " <Element 'speech' at 0x1060948d0>,\n",
       " <Element 'speech' at 0x106094990>,\n",
       " <Element 'speech' at 0x106094bd0>,\n",
       " <Element 'speech' at 0x106094d90>,\n",
       " <Element 'speech' at 0x106094f10>,\n",
       " <Element 'speech' at 0x106094fd0>,\n",
       " <Element 'speech' at 0x1060a1350>,\n",
       " <Element 'speech' at 0x1060a1710>,\n",
       " <Element 'speech' at 0x1060a17d0>,\n",
       " <Element 'speech' at 0x1060a1c50>,\n",
       " <Element 'speech' at 0x1060a1f90>,\n",
       " <Element 'speech' at 0x1060ae090>,\n",
       " <Element 'speech' at 0x1060ae410>,\n",
       " <Element 'speech' at 0x1060ae5d0>,\n",
       " <Element 'speech' at 0x1060ae690>,\n",
       " <Element 'speech' at 0x1060ae950>,\n",
       " <Element 'speech' at 0x1060aeb50>,\n",
       " <Element 'speech' at 0x1060aed90>,\n",
       " <Element 'speech' at 0x1060aef10>,\n",
       " <Element 'speech' at 0x1060bb0d0>,\n",
       " <Element 'speech' at 0x1060bb190>,\n",
       " <Element 'speech' at 0x1060bb290>,\n",
       " <Element 'speech' at 0x1060bb350>,\n",
       " <Element 'speech' at 0x1060bb450>,\n",
       " <Element 'speech' at 0x1060bb6d0>,\n",
       " <Element 'speech' at 0x1060bb790>,\n",
       " <Element 'speech' at 0x1060bb910>,\n",
       " <Element 'speech' at 0x1060bba90>,\n",
       " <Element 'speech' at 0x1060bbc10>,\n",
       " <Element 'speech' at 0x1060bbd10>,\n",
       " <Element 'speech' at 0x1060bbd90>,\n",
       " <Element 'speech' at 0x1060c9050>,\n",
       " <Element 'speech' at 0x1060c9250>,\n",
       " <Element 'speech' at 0x1060c9350>,\n",
       " <Element 'speech' at 0x1060c9450>,\n",
       " <Element 'speech' at 0x1060c9510>,\n",
       " <Element 'speech' at 0x1060c9650>,\n",
       " <Element 'speech' at 0x1060c9890>,\n",
       " <Element 'speech' at 0x1060c9950>,\n",
       " <Element 'speech' at 0x1060c9c50>,\n",
       " <Element 'speech' at 0x1060c9e90>,\n",
       " <Element 'speech' at 0x1060c9f50>,\n",
       " <Element 'speech' at 0x1060d6050>,\n",
       " <Element 'speech' at 0x1060d6190>,\n",
       " <Element 'speech' at 0x1060d6250>,\n",
       " <Element 'speech' at 0x1060d6310>,\n",
       " <Element 'speech' at 0x1060d6410>,\n",
       " <Element 'speech' at 0x1060d65d0>,\n",
       " <Element 'speech' at 0x1060d6690>,\n",
       " <Element 'speech' at 0x1060d6790>,\n",
       " <Element 'speech' at 0x1060d6850>,\n",
       " <Element 'speech' at 0x1060d69d0>,\n",
       " <Element 'speech' at 0x1060d6a90>,\n",
       " <Element 'speech' at 0x1060d6b50>,\n",
       " <Element 'speech' at 0x1060d6c10>,\n",
       " <Element 'speech' at 0x1060d6cd0>,\n",
       " <Element 'speech' at 0x1060d6d90>,\n",
       " <Element 'speech' at 0x1060d6e50>,\n",
       " <Element 'speech' at 0x1060d6f10>,\n",
       " <Element 'speech' at 0x1060d6fd0>,\n",
       " <Element 'speech' at 0x1060e30d0>,\n",
       " <Element 'speech' at 0x1060e3190>,\n",
       " <Element 'speech' at 0x1060e3250>,\n",
       " <Element 'speech' at 0x1060e3310>,\n",
       " <Element 'speech' at 0x1060e33d0>,\n",
       " <Element 'speech' at 0x1060e3490>,\n",
       " <Element 'speech' at 0x1060e3590>,\n",
       " <Element 'speech' at 0x1060e3650>,\n",
       " <Element 'speech' at 0x1060e3710>,\n",
       " <Element 'speech' at 0x1060e37d0>,\n",
       " <Element 'speech' at 0x1060e3890>,\n",
       " <Element 'speech' at 0x1060e3990>,\n",
       " <Element 'speech' at 0x1060e3a90>,\n",
       " <Element 'speech' at 0x1060e3b50>,\n",
       " <Element 'speech' at 0x1060e3c90>,\n",
       " <Element 'speech' at 0x1060e3d90>,\n",
       " <Element 'speech' at 0x1060e3e50>,\n",
       " <Element 'speech' at 0x1060e3f10>,\n",
       " <Element 'speech' at 0x1060e3fd0>,\n",
       " <Element 'speech' at 0x1060f0190>,\n",
       " <Element 'speech' at 0x1060f0290>,\n",
       " <Element 'speech' at 0x1060f0310>,\n",
       " <Element 'speech' at 0x1060f0450>,\n",
       " <Element 'speech' at 0x1060f04d0>,\n",
       " <Element 'speech' at 0x1060f0590>,\n",
       " <Element 'speech' at 0x1060f0650>,\n",
       " <Element 'speech' at 0x1060f0910>,\n",
       " <Element 'speech' at 0x1060f09d0>,\n",
       " <Element 'speech' at 0x1060f0f90>,\n",
       " <Element 'speech' at 0x1060fd190>,\n",
       " <Element 'speech' at 0x1060fd290>,\n",
       " <Element 'speech' at 0x1060fd390>,\n",
       " <Element 'speech' at 0x1060fd590>,\n",
       " <Element 'speech' at 0x1060fd690>,\n",
       " <Element 'speech' at 0x1060fd7d0>,\n",
       " <Element 'speech' at 0x1060fd9d0>]"
      ]
     },
     "execution_count": 50,
     "metadata": {},
     "output_type": "execute_result"
    }
   ],
   "source": [
    "root.findall('act/scene/speech')"
   ]
  },
  {
   "cell_type": "code",
   "execution_count": 55,
   "metadata": {
    "collapsed": false,
    "scrolled": true
   },
   "outputs": [
    {
     "data": {
      "text/plain": [
       "934"
      ]
     },
     "execution_count": 55,
     "metadata": {},
     "output_type": "execute_result"
    }
   ],
   "source": [
    "speaker_element = root.findall('act/scene/speech/speaker')\n",
    "len(speaker_element)"
   ]
  },
  {
   "cell_type": "code",
   "execution_count": 56,
   "metadata": {
    "collapsed": false,
    "scrolled": false
   },
   "outputs": [
    {
     "data": {
      "text/plain": [
       "2162"
      ]
     },
     "execution_count": 56,
     "metadata": {},
     "output_type": "execute_result"
    }
   ],
   "source": [
    "speechline_element = root.findall('act/scene/speech/line')\n",
    "len(speechline_element) \n",
    "# 一整段台词被分成了很多 line\n",
    "# 如何整合?? 还没想好.... xml parser?"
   ]
  },
  {
   "cell_type": "code",
   "execution_count": 57,
   "metadata": {
    "collapsed": false
   },
   "outputs": [
    {
     "data": {
      "text/plain": [
       "['BER.', 'LAF.', 'COUNT.', 'LAF.', 'COUNT.', 'LAF.', 'COUNT.', 'LAF.', 'BER.']"
      ]
     },
     "execution_count": 57,
     "metadata": {},
     "output_type": "execute_result"
    }
   ],
   "source": [
    "speakers = []\n",
    "for i in xrange(len(speaker_element)):\n",
    "    sp = speaker_element[i].text\n",
    "    speakers.append(sp)\n",
    "    \n",
    "speakers[1:10]"
   ]
  },
  {
   "cell_type": "code",
   "execution_count": 62,
   "metadata": {
    "collapsed": false
   },
   "outputs": [
    {
     "data": {
      "text/plain": [
       "[u'And I in going, madam, weep o\\u2019er my father\\u2019s death anew; but I must attend his Majesty\\u2019s command, to whom I am now in ward, evermore in subjection.',\n",
       " 'You shall find of the King a husband, madam; you, sir, a father. He that so generally is at all times good must of necessity hold his virtue to you, whose worthiness would stir it up where it wanted rather than lack it where there is such abundance.',\n",
       " u'What hope is there of his Majesty\\u2019s amendment?',\n",
       " u'He hath abandon\\u2019d his physicians, madam, under whose practices he hath persecuted time with hope, and finds no other advantage in the process but only the losing of hope by time.',\n",
       " u'This young gentlewoman had a father\\u2014O, that \\u201chad,\\u201d how sad a passage \\u2019tis!\\u2014whose skill was almost as great as his honesty; had it stretch\\u2019d so far, would have made nature immortal, and death should have play for lack of work. Would for the King\\u2019s sake he were living! I think it would be the death of the King\\u2019s disease.',\n",
       " u'How call\\u2019d you the man you speak of, madam?',\n",
       " u'He was famous, sir, in his profession, and it was his great right to be so\\u2014Gerard de Narbon.',\n",
       " u'He was excellent indeed, madam. The King very lately spoke of him admiringly and mourningly. He was skillful enough to have liv\\u2019d still, if knowledge could be set up against mortality.',\n",
       " 'What is it, my good lord, the King languishes of?']"
      ]
     },
     "execution_count": 62,
     "metadata": {},
     "output_type": "execute_result"
    }
   ],
   "source": [
    "speechlines = []\n",
    "for i in xrange(len(speechline_element)):\n",
    "    sp = speechline_element[i].text\n",
    "    speechlines.append(sp)\n",
    "\n",
    "speechlines[1:10]"
   ]
  },
  {
   "cell_type": "code",
   "execution_count": 63,
   "metadata": {
    "collapsed": true
   },
   "outputs": [],
   "source": [
    "import pandas as pd\n",
    "\n",
    "lines = pd.DataFrame(speechlines)"
   ]
  },
  {
   "cell_type": "code",
   "execution_count": 72,
   "metadata": {
    "collapsed": true
   },
   "outputs": [],
   "source": [
    "lines['Genre']=root.attrib['genre']"
   ]
  },
  {
   "cell_type": "code",
   "execution_count": 73,
   "metadata": {
    "collapsed": false
   },
   "outputs": [
    {
     "data": {
      "text/html": [
       "<div>\n",
       "<table border=\"1\" class=\"dataframe\">\n",
       "  <thead>\n",
       "    <tr style=\"text-align: right;\">\n",
       "      <th></th>\n",
       "      <th>speech_line</th>\n",
       "      <th>Genre</th>\n",
       "    </tr>\n",
       "  </thead>\n",
       "  <tbody>\n",
       "    <tr>\n",
       "      <th>0</th>\n",
       "      <td>In delivering my son from me, I bury a second ...</td>\n",
       "      <td>comedy</td>\n",
       "    </tr>\n",
       "    <tr>\n",
       "      <th>1</th>\n",
       "      <td>And I in going, madam, weep o’er my father’s d...</td>\n",
       "      <td>comedy</td>\n",
       "    </tr>\n",
       "    <tr>\n",
       "      <th>2</th>\n",
       "      <td>You shall find of the King a husband, madam; y...</td>\n",
       "      <td>comedy</td>\n",
       "    </tr>\n",
       "    <tr>\n",
       "      <th>3</th>\n",
       "      <td>What hope is there of his Majesty’s amendment?</td>\n",
       "      <td>comedy</td>\n",
       "    </tr>\n",
       "    <tr>\n",
       "      <th>4</th>\n",
       "      <td>He hath abandon’d his physicians, madam, under...</td>\n",
       "      <td>comedy</td>\n",
       "    </tr>\n",
       "  </tbody>\n",
       "</table>\n",
       "</div>"
      ],
      "text/plain": [
       "                                         speech_line   Genre\n",
       "0  In delivering my son from me, I bury a second ...  comedy\n",
       "1  And I in going, madam, weep o’er my father’s d...  comedy\n",
       "2  You shall find of the King a husband, madam; y...  comedy\n",
       "3     What hope is there of his Majesty’s amendment?  comedy\n",
       "4  He hath abandon’d his physicians, madam, under...  comedy"
      ]
     },
     "execution_count": 73,
     "metadata": {},
     "output_type": "execute_result"
    }
   ],
   "source": [
    "lines.head()"
   ]
  },
  {
   "cell_type": "code",
   "execution_count": 74,
   "metadata": {
    "collapsed": false
   },
   "outputs": [],
   "source": [
    "lines.columns = ['speech_line','Genre']"
   ]
  },
  {
   "cell_type": "code",
   "execution_count": 89,
   "metadata": {
    "collapsed": false
   },
   "outputs": [
    {
     "data": {
      "text/plain": [
       "'All\\xe2\\x80\\x99s Well That Ends Well'"
      ]
     },
     "execution_count": 89,
     "metadata": {},
     "output_type": "execute_result"
    }
   ],
   "source": [
    "root_xml.getchildren()[0].text.encode('utf-8')"
   ]
  },
  {
   "cell_type": "code",
   "execution_count": 90,
   "metadata": {
    "collapsed": false
   },
   "outputs": [],
   "source": [
    "lines['play_name']=unicode(root_xml.getchildren()[0].text.encode('utf-8'), \"utf-8\")"
   ]
  },
  {
   "cell_type": "code",
   "execution_count": 91,
   "metadata": {
    "collapsed": false
   },
   "outputs": [
    {
     "data": {
      "text/html": [
       "<div>\n",
       "<table border=\"1\" class=\"dataframe\">\n",
       "  <thead>\n",
       "    <tr style=\"text-align: right;\">\n",
       "      <th></th>\n",
       "      <th>speech_line</th>\n",
       "      <th>Genre</th>\n",
       "      <th>play_name</th>\n",
       "    </tr>\n",
       "  </thead>\n",
       "  <tbody>\n",
       "    <tr>\n",
       "      <th>0</th>\n",
       "      <td>In delivering my son from me, I bury a second ...</td>\n",
       "      <td>comedy</td>\n",
       "      <td>All’s Well That Ends Well</td>\n",
       "    </tr>\n",
       "    <tr>\n",
       "      <th>1</th>\n",
       "      <td>And I in going, madam, weep o’er my father’s d...</td>\n",
       "      <td>comedy</td>\n",
       "      <td>All’s Well That Ends Well</td>\n",
       "    </tr>\n",
       "    <tr>\n",
       "      <th>2</th>\n",
       "      <td>You shall find of the King a husband, madam; y...</td>\n",
       "      <td>comedy</td>\n",
       "      <td>All’s Well That Ends Well</td>\n",
       "    </tr>\n",
       "    <tr>\n",
       "      <th>3</th>\n",
       "      <td>What hope is there of his Majesty’s amendment?</td>\n",
       "      <td>comedy</td>\n",
       "      <td>All’s Well That Ends Well</td>\n",
       "    </tr>\n",
       "    <tr>\n",
       "      <th>4</th>\n",
       "      <td>He hath abandon’d his physicians, madam, under...</td>\n",
       "      <td>comedy</td>\n",
       "      <td>All’s Well That Ends Well</td>\n",
       "    </tr>\n",
       "  </tbody>\n",
       "</table>\n",
       "</div>"
      ],
      "text/plain": [
       "                                         speech_line   Genre  \\\n",
       "0  In delivering my son from me, I bury a second ...  comedy   \n",
       "1  And I in going, madam, weep o’er my father’s d...  comedy   \n",
       "2  You shall find of the King a husband, madam; y...  comedy   \n",
       "3     What hope is there of his Majesty’s amendment?  comedy   \n",
       "4  He hath abandon’d his physicians, madam, under...  comedy   \n",
       "\n",
       "                   play_name  \n",
       "0  All’s Well That Ends Well  \n",
       "1  All’s Well That Ends Well  \n",
       "2  All’s Well That Ends Well  \n",
       "3  All’s Well That Ends Well  \n",
       "4  All’s Well That Ends Well  "
      ]
     },
     "execution_count": 91,
     "metadata": {},
     "output_type": "execute_result"
    }
   ],
   "source": [
    "lines.head()"
   ]
  },
  {
   "cell_type": "code",
   "execution_count": 71,
   "metadata": {
    "collapsed": true
   },
   "outputs": [],
   "source": [
    "# 以上仅将一部作品的所有台词转化为 dataframe, 并标记上 genre"
   ]
  },
  {
   "cell_type": "code",
   "execution_count": 101,
   "metadata": {
    "collapsed": false
   },
   "outputs": [
    {
     "data": {
      "text/plain": [
       "1"
      ]
     },
     "execution_count": 101,
     "metadata": {},
     "output_type": "execute_result"
    }
   ],
   "source": [
    "import os\n",
    "\n",
    "file_list = []\n",
    "for dirpath, dirs, files in os.walk('text_Data_xml'):\n",
    "    file_list.append(files)\n",
    "\n",
    "len(file_list)"
   ]
  },
  {
   "cell_type": "code",
   "execution_count": 104,
   "metadata": {
    "collapsed": false
   },
   "outputs": [],
   "source": [
    "import numpy as np\n",
    "\n",
    "file_list = np.ravel(file_list)"
   ]
  },
  {
   "cell_type": "code",
   "execution_count": 105,
   "metadata": {
    "collapsed": false
   },
   "outputs": [
    {
     "data": {
      "text/plain": [
       "48"
      ]
     },
     "execution_count": 105,
     "metadata": {},
     "output_type": "execute_result"
    }
   ],
   "source": [
    "len(file_list)"
   ]
  },
  {
   "cell_type": "code",
   "execution_count": 111,
   "metadata": {
    "collapsed": false
   },
   "outputs": [],
   "source": [
    "speechlines = []\n",
    "plays_name = []\n",
    "genre_list = []\n",
    "for file_name in file_list:\n",
    "    path = 'text_data_xml/%s'% file_name\n",
    "    tree = etree.parse(path)\n",
    "    root = tree.getroot()\n",
    "    xml = objectify.parse(open(path))\n",
    "    root_xml = xml.getroot()\n",
    "    \n",
    "    speechline_element = root.findall('act/scene/speech/line')\n",
    "    for i in xrange(len(speechline_element)):\n",
    "        sp = speechline_element[i].text\n",
    "        speechlines.append(sp)\n",
    "        plays_name.append(unicode(root_xml.getchildren()[0].text.encode('utf-8'), \"utf-8\"))\n",
    "        genre_list.append(root.attrib['genre'])"
   ]
  },
  {
   "cell_type": "code",
   "execution_count": 109,
   "metadata": {
    "collapsed": false
   },
   "outputs": [
    {
     "data": {
      "text/plain": [
       "101627"
      ]
     },
     "execution_count": 109,
     "metadata": {},
     "output_type": "execute_result"
    }
   ],
   "source": [
    "len(speechlines)"
   ]
  },
  {
   "cell_type": "code",
   "execution_count": 110,
   "metadata": {
    "collapsed": false
   },
   "outputs": [
    {
     "data": {
      "text/plain": [
       "'Fill till the cup be hid.'"
      ]
     },
     "execution_count": 110,
     "metadata": {},
     "output_type": "execute_result"
    }
   ],
   "source": [
    "speechlines[3456]"
   ]
  },
  {
   "cell_type": "code",
   "execution_count": 112,
   "metadata": {
    "collapsed": false
   },
   "outputs": [
    {
     "data": {
      "text/plain": [
       "101627"
      ]
     },
     "execution_count": 112,
     "metadata": {},
     "output_type": "execute_result"
    }
   ],
   "source": [
    "len(plays_name)"
   ]
  },
  {
   "cell_type": "code",
   "execution_count": 113,
   "metadata": {
    "collapsed": false
   },
   "outputs": [
    {
     "data": {
      "text/plain": [
       "101627"
      ]
     },
     "execution_count": 113,
     "metadata": {},
     "output_type": "execute_result"
    }
   ],
   "source": [
    "len(genre_list)"
   ]
  },
  {
   "cell_type": "code",
   "execution_count": 121,
   "metadata": {
    "collapsed": false
   },
   "outputs": [],
   "source": [
    "d = {'speech_lines':speechlines, 'plays_name':plays_name, 'genre':genre_list}\n",
    "lines_all = pd.DataFrame(d)"
   ]
  },
  {
   "cell_type": "code",
   "execution_count": 122,
   "metadata": {
    "collapsed": false
   },
   "outputs": [
    {
     "data": {
      "text/html": [
       "<div>\n",
       "<table border=\"1\" class=\"dataframe\">\n",
       "  <thead>\n",
       "    <tr style=\"text-align: right;\">\n",
       "      <th></th>\n",
       "      <th>genre</th>\n",
       "      <th>plays_name</th>\n",
       "      <th>speech_lines</th>\n",
       "    </tr>\n",
       "  </thead>\n",
       "  <tbody>\n",
       "    <tr>\n",
       "      <th>0</th>\n",
       "      <td>comedy</td>\n",
       "      <td>All’s Well That Ends Well</td>\n",
       "      <td>In delivering my son from me, I bury a second ...</td>\n",
       "    </tr>\n",
       "    <tr>\n",
       "      <th>1</th>\n",
       "      <td>comedy</td>\n",
       "      <td>All’s Well That Ends Well</td>\n",
       "      <td>And I in going, madam, weep o’er my father’s d...</td>\n",
       "    </tr>\n",
       "    <tr>\n",
       "      <th>2</th>\n",
       "      <td>comedy</td>\n",
       "      <td>All’s Well That Ends Well</td>\n",
       "      <td>You shall find of the King a husband, madam; y...</td>\n",
       "    </tr>\n",
       "    <tr>\n",
       "      <th>3</th>\n",
       "      <td>comedy</td>\n",
       "      <td>All’s Well That Ends Well</td>\n",
       "      <td>What hope is there of his Majesty’s amendment?</td>\n",
       "    </tr>\n",
       "    <tr>\n",
       "      <th>4</th>\n",
       "      <td>comedy</td>\n",
       "      <td>All’s Well That Ends Well</td>\n",
       "      <td>He hath abandon’d his physicians, madam, under...</td>\n",
       "    </tr>\n",
       "  </tbody>\n",
       "</table>\n",
       "</div>"
      ],
      "text/plain": [
       "    genre                 plays_name  \\\n",
       "0  comedy  All’s Well That Ends Well   \n",
       "1  comedy  All’s Well That Ends Well   \n",
       "2  comedy  All’s Well That Ends Well   \n",
       "3  comedy  All’s Well That Ends Well   \n",
       "4  comedy  All’s Well That Ends Well   \n",
       "\n",
       "                                        speech_lines  \n",
       "0  In delivering my son from me, I bury a second ...  \n",
       "1  And I in going, madam, weep o’er my father’s d...  \n",
       "2  You shall find of the King a husband, madam; y...  \n",
       "3     What hope is there of his Majesty’s amendment?  \n",
       "4  He hath abandon’d his physicians, madam, under...  "
      ]
     },
     "execution_count": 122,
     "metadata": {},
     "output_type": "execute_result"
    }
   ],
   "source": [
    "lines_all.head()"
   ]
  },
  {
   "cell_type": "code",
   "execution_count": null,
   "metadata": {
    "collapsed": true
   },
   "outputs": [],
   "source": []
  }
 ],
 "metadata": {
  "kernelspec": {
   "display_name": "Python 2",
   "language": "python",
   "name": "python2"
  },
  "language_info": {
   "codemirror_mode": {
    "name": "ipython",
    "version": 2
   },
   "file_extension": ".py",
   "mimetype": "text/x-python",
   "name": "python",
   "nbconvert_exporter": "python",
   "pygments_lexer": "ipython2",
   "version": "2.7.11"
  }
 },
 "nbformat": 4,
 "nbformat_minor": 0
}
